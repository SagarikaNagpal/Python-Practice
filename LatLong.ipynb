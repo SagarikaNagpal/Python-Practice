{
 "cells": [
  {
   "cell_type": "code",
   "execution_count": 27,
   "metadata": {},
   "outputs": [],
   "source": [
    "from geopy.geocoders import Nominatim"
   ]
  },
  {
   "cell_type": "code",
   "execution_count": 28,
   "metadata": {},
   "outputs": [],
   "source": [
    "#reverse = geocoder.google([\"47.609208\" , \"-122.332480\"], method = 'reverse')\n",
    "#print(reverse.city,reverse.state_long, reverse.country_long)\n",
    "g = geocoder.google([47.609208, -122.332480], method='reverse')"
   ]
  },
  {
   "cell_type": "code",
   "execution_count": 29,
   "metadata": {},
   "outputs": [],
   "source": [
    "geolocator = Nominatim(user_agent=\"specify_your_app_name_here\")\n",
    "location = geolocator.reverse(\"28.613534, 77.367099\")"
   ]
  },
  {
   "cell_type": "code",
   "execution_count": 30,
   "metadata": {},
   "outputs": [
    {
     "name": "stdout",
     "output_type": "stream",
     "text": [
      "Kaushambi, Ghaziabad, Uttar Pradesh, SDF, India\n"
     ]
    }
   ],
   "source": [
    "print(location.address)"
   ]
  },
  {
   "cell_type": "code",
   "execution_count": 41,
   "metadata": {},
   "outputs": [],
   "source": [
    "import pprint\n",
    "import reverse_geocoder as rg "
   ]
  },
  {
   "cell_type": "code",
   "execution_count": 42,
   "metadata": {},
   "outputs": [
    {
     "name": "stdout",
     "output_type": "stream",
     "text": [
      "[OrderedDict([('lat', '28.63576'),\n",
      "              ('lon', '77.22445'),\n",
      "              ('name', 'New Delhi'),\n",
      "              ('admin1', 'NCT'),\n",
      "              ('admin2', 'New Delhi'),\n",
      "              ('cc', 'IN')])]\n"
     ]
    }
   ],
   "source": [
    "coordinates =(28.613939, 77.209023)\n",
    "result = rg.search(coordinates)\n",
    "pprint.pprint(result)"
   ]
  },
  {
   "cell_type": "code",
   "execution_count": 44,
   "metadata": {},
   "outputs": [
    {
     "name": "stdout",
     "output_type": "stream",
     "text": [
      "[OrderedDict([('lat', '28.63576'),\n",
      "              ('lon', '77.22445'),\n",
      "              ('name', 'New Delhi'),\n",
      "              ('admin1', 'NCT'),\n",
      "              ('admin2', 'New Delhi'),\n",
      "              ('cc', 'IN')])]\n"
     ]
    }
   ],
   "source": [
    "coordinates = (28.613534, 77.367099)\n",
    "results = rg.search(coordinates)\n",
    "pprint.pprint(result)"
   ]
  },
  {
   "cell_type": "code",
   "execution_count": null,
   "metadata": {},
   "outputs": [],
   "source": []
  }
 ],
 "metadata": {
  "kernelspec": {
   "display_name": "Python 3",
   "language": "python",
   "name": "python3"
  },
  "language_info": {
   "codemirror_mode": {
    "name": "ipython",
    "version": 3
   },
   "file_extension": ".py",
   "mimetype": "text/x-python",
   "name": "python",
   "nbconvert_exporter": "python",
   "pygments_lexer": "ipython3",
   "version": "3.7.3"
  }
 },
 "nbformat": 4,
 "nbformat_minor": 2
}
